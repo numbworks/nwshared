{
 "cells": [
  {
   "cell_type": "markdown",
   "metadata": {},
   "source": [
    "|||\n",
    "|---|---|\n",
    "|Title|nwshared|\n",
    "|Author|numbworks|\n",
    "|Version|1.8.0|\n",
    "||Please check [docs/docs-nwshared.md](../docs/docs-nwshared.md) before proceeding.|"
   ]
  },
  {
   "cell_type": "markdown",
   "metadata": {},
   "source": [
    "#### Demo"
   ]
  },
  {
   "cell_type": "code",
   "execution_count": 80,
   "metadata": {},
   "outputs": [],
   "source": [
    "import pandas as pd\n",
    "from pandas import DataFrame\n",
    "from pandas.io.formats.style import Styler\n",
    "from nwshared import Displayer, PlotManager, PlotKind\n",
    "\n",
    "data : dict = { \"Category\": [\"Food\", \"Bills\"], \"Price\": [250.50, 432.78] }\n",
    "df : DataFrame = pd.DataFrame(data)"
   ]
  },
  {
   "cell_type": "code",
   "execution_count": 81,
   "metadata": {},
   "outputs": [
    {
     "data": {
      "image/png": "[encoded data removed]",
      "text/plain": [
       "<Figure size 500x500 with 1 Axes>"
      ]
     },
     "metadata": {},
     "output_type": "display_data"
    }
   ],
   "source": [
    "PlotManager().show_plot(df = df, plot_kind = PlotKind.BAR, x_name = \"Category\", y_name = \"Price\")"
   ]
  },
  {
   "cell_type": "code",
   "execution_count": 82,
   "metadata": {},
   "outputs": [
    {
     "data": {
      "text/html": [
       "<style type=\"text/css\">\n",
       "</style>\n",
       "<table id=\"T_557e7\">\n",
       "  <thead>\n",
       "    <tr>\n",
       "      <th id=\"T_557e7_level0_col0\" class=\"col_heading level0 col0\" >Category</th>\n",
       "      <th id=\"T_557e7_level0_col1\" class=\"col_heading level0 col1\" >Price</th>\n",
       "    </tr>\n",
       "  </thead>\n",
       "  <tbody>\n",
       "    <tr>\n",
       "      <td id=\"T_557e7_row0_col0\" class=\"data row0 col0\" >Food</td>\n",
       "      <td id=\"T_557e7_row0_col1\" class=\"data row0 col1\" >250.50</td>\n",
       "    </tr>\n",
       "    <tr>\n",
       "      <td id=\"T_557e7_row1_col0\" class=\"data row1 col0\" >Bills</td>\n",
       "      <td id=\"T_557e7_row1_col1\" class=\"data row1 col1\" >432.78</td>\n",
       "    </tr>\n",
       "  </tbody>\n",
       "</table>\n"
      ],
      "text/plain": [
       "<pandas.io.formats.style.Styler at 0x7f0186b4ba70>"
      ]
     },
     "metadata": {},
     "output_type": "display_data"
    }
   ],
   "source": [
    "Displayer().display(obj = df, hide_index = True, formatters = { \"Price\" : \"{:.2f}\" })"
   ]
  },
  {
   "cell_type": "code",
   "execution_count": 83,
   "metadata": {},
   "outputs": [
    {
     "data": {
      "text/html": [
       "<style type=\"text/css\">\n",
       "</style>\n",
       "<table id=\"T_888ea\">\n",
       "  <thead>\n",
       "    <tr>\n",
       "      <th class=\"blank level0\" >&nbsp;</th>\n",
       "      <th id=\"T_888ea_level0_col0\" class=\"col_heading level0 col0\" >Category</th>\n",
       "      <th id=\"T_888ea_level0_col1\" class=\"col_heading level0 col1\" >Price</th>\n",
       "    </tr>\n",
       "  </thead>\n",
       "  <tbody>\n",
       "    <tr>\n",
       "      <th id=\"T_888ea_level0_row0\" class=\"row_heading level0 row0\" >0</th>\n",
       "      <td id=\"T_888ea_row0_col0\" class=\"data row0 col0\" >Food</td>\n",
       "      <td id=\"T_888ea_row0_col1\" class=\"data row0 col1\" >250.50</td>\n",
       "    </tr>\n",
       "    <tr>\n",
       "      <th id=\"T_888ea_level0_row1\" class=\"row_heading level0 row1\" >1</th>\n",
       "      <td id=\"T_888ea_row1_col0\" class=\"data row1 col0\" >Bills</td>\n",
       "      <td id=\"T_888ea_row1_col1\" class=\"data row1 col1\" >432.78</td>\n",
       "    </tr>\n",
       "  </tbody>\n",
       "</table>\n"
      ],
      "text/plain": [
       "<pandas.io.formats.style.Styler at 0x7f01841f7bc0>"
      ]
     },
     "metadata": {},
     "output_type": "display_data"
    }
   ],
   "source": [
    "Displayer().display(obj = df, hide_index = False, formatters = { \"Price\" : \"{:.2f}\" })"
   ]
  },
  {
   "cell_type": "code",
   "execution_count": 84,
   "metadata": {},
   "outputs": [
    {
     "data": {
      "text/html": [
       "<style type=\"text/css\">\n",
       "</style>\n",
       "<table id=\"T_6b22c\">\n",
       "  <thead>\n",
       "    <tr>\n",
       "      <th class=\"blank level0\" >&nbsp;</th>\n",
       "      <th id=\"T_6b22c_level0_col0\" class=\"col_heading level0 col0\" >Category</th>\n",
       "      <th id=\"T_6b22c_level0_col1\" class=\"col_heading level0 col1\" >Price</th>\n",
       "    </tr>\n",
       "  </thead>\n",
       "  <tbody>\n",
       "    <tr>\n",
       "      <th id=\"T_6b22c_level0_row0\" class=\"row_heading level0 row0\" >0</th>\n",
       "      <td id=\"T_6b22c_row0_col0\" class=\"data row0 col0\" >Food</td>\n",
       "      <td id=\"T_6b22c_row0_col1\" class=\"data row0 col1\" >250.500000</td>\n",
       "    </tr>\n",
       "    <tr>\n",
       "      <th id=\"T_6b22c_level0_row1\" class=\"row_heading level0 row1\" >1</th>\n",
       "      <td id=\"T_6b22c_row1_col0\" class=\"data row1 col0\" >Bills</td>\n",
       "      <td id=\"T_6b22c_row1_col1\" class=\"data row1 col1\" >432.780000</td>\n",
       "    </tr>\n",
       "  </tbody>\n",
       "</table>\n"
      ],
      "text/plain": [
       "<pandas.io.formats.style.Styler at 0x7f01841f6ae0>"
      ]
     },
     "metadata": {},
     "output_type": "display_data"
    }
   ],
   "source": [
    "Displayer().display(obj = df, hide_index = False)"
   ]
  },
  {
   "cell_type": "code",
   "execution_count": 85,
   "metadata": {},
   "outputs": [
    {
     "data": {
      "text/html": [
       "<style type=\"text/css\">\n",
       "#T_01a23_row0_col0 {\n",
       "  background-color: lightgreen;\n",
       "}\n",
       "</style>\n",
       "<table id=\"T_01a23\">\n",
       "  <thead>\n",
       "    <tr>\n",
       "      <th id=\"T_01a23_level0_col0\" class=\"col_heading level0 col0\" >Category</th>\n",
       "      <th id=\"T_01a23_level0_col1\" class=\"col_heading level0 col1\" >Price</th>\n",
       "    </tr>\n",
       "  </thead>\n",
       "  <tbody>\n",
       "    <tr>\n",
       "      <td id=\"T_01a23_row0_col0\" class=\"data row0 col0\" >Food</td>\n",
       "      <td id=\"T_01a23_row0_col1\" class=\"data row0 col1\" >250.50</td>\n",
       "    </tr>\n",
       "    <tr>\n",
       "      <td id=\"T_01a23_row1_col0\" class=\"data row1 col0\" >Bills</td>\n",
       "      <td id=\"T_01a23_row1_col1\" class=\"data row1 col1\" >432.78</td>\n",
       "    </tr>\n",
       "  </tbody>\n",
       "</table>\n"
      ],
      "text/plain": [
       "<pandas.io.formats.style.Styler at 0x7f018478faa0>"
      ]
     },
     "metadata": {},
     "output_type": "display_data"
    }
   ],
   "source": [
    "def apply_color_highlights(df : DataFrame) -> Styler:\n",
    "    \n",
    "    styled_df : DataFrame = DataFrame('', index = df.index, columns = df.columns)\n",
    "    styled_df.iloc[0, 0] = f\"background-color: lightgreen\"\n",
    "\n",
    "    styler : Styler = df.style.apply(lambda _ : styled_df, axis = None)\n",
    "\n",
    "    return styler\n",
    "\n",
    "styler : Styler = apply_color_highlights(df = df)\n",
    "\n",
    "Displayer().display(obj = styler, hide_index = True, formatters = { \"Price\" : \"{:.2f}\" })"
   ]
  },
  {
   "cell_type": "code",
   "execution_count": 86,
   "metadata": {},
   "outputs": [
    {
     "data": {
      "text/html": [
       "<style type=\"text/css\">\n",
       "#T_01a23_row0_col0 {\n",
       "  background-color: lightgreen;\n",
       "}\n",
       "</style>\n",
       "<table id=\"T_01a23\">\n",
       "  <thead>\n",
       "    <tr>\n",
       "      <th class=\"blank level0\" >&nbsp;</th>\n",
       "      <th id=\"T_01a23_level0_col0\" class=\"col_heading level0 col0\" >Category</th>\n",
       "      <th id=\"T_01a23_level0_col1\" class=\"col_heading level0 col1\" >Price</th>\n",
       "    </tr>\n",
       "  </thead>\n",
       "  <tbody>\n",
       "    <tr>\n",
       "      <th id=\"T_01a23_level0_row0\" class=\"row_heading level0 row0\" >0</th>\n",
       "      <td id=\"T_01a23_row0_col0\" class=\"data row0 col0\" >Food</td>\n",
       "      <td id=\"T_01a23_row0_col1\" class=\"data row0 col1\" >250.50</td>\n",
       "    </tr>\n",
       "    <tr>\n",
       "      <th id=\"T_01a23_level0_row1\" class=\"row_heading level0 row1\" >1</th>\n",
       "      <td id=\"T_01a23_row1_col0\" class=\"data row1 col0\" >Bills</td>\n",
       "      <td id=\"T_01a23_row1_col1\" class=\"data row1 col1\" >432.78</td>\n",
       "    </tr>\n",
       "  </tbody>\n",
       "</table>\n"
      ],
      "text/plain": [
       "<pandas.io.formats.style.Styler at 0x7f0184189ac0>"
      ]
     },
     "metadata": {},
     "output_type": "display_data"
    }
   ],
   "source": [
    "Displayer().display(obj = styler, hide_index = False, formatters = { \"Price\" : \"{:.2f}\" })"
   ]
  },
  {
   "cell_type": "code",
   "execution_count": 87,
   "metadata": {},
   "outputs": [
    {
     "data": {
      "text/html": [
       "<style type=\"text/css\">\n",
       "#T_01a23_row0_col0 {\n",
       "  background-color: lightgreen;\n",
       "}\n",
       "</style>\n",
       "<table id=\"T_01a23\">\n",
       "  <thead>\n",
       "    <tr>\n",
       "      <th id=\"T_01a23_level0_col0\" class=\"col_heading level0 col0\" >Category</th>\n",
       "      <th id=\"T_01a23_level0_col1\" class=\"col_heading level0 col1\" >Price</th>\n",
       "    </tr>\n",
       "  </thead>\n",
       "  <tbody>\n",
       "    <tr>\n",
       "      <td id=\"T_01a23_row0_col0\" class=\"data row0 col0\" >Food</td>\n",
       "      <td id=\"T_01a23_row0_col1\" class=\"data row0 col1\" >250.500000</td>\n",
       "    </tr>\n",
       "    <tr>\n",
       "      <td id=\"T_01a23_row1_col0\" class=\"data row1 col0\" >Bills</td>\n",
       "      <td id=\"T_01a23_row1_col1\" class=\"data row1 col1\" >432.780000</td>\n",
       "    </tr>\n",
       "  </tbody>\n",
       "</table>\n"
      ],
      "text/plain": [
       "<pandas.io.formats.style.Styler at 0x7f018cb46e10>"
      ]
     },
     "metadata": {},
     "output_type": "display_data"
    }
   ],
   "source": [
    "Displayer().display(obj = styler, hide_index = True)"
   ]
  },
  {
   "cell_type": "code",
   "execution_count": null,
   "metadata": {},
   "outputs": [],
   "source": []
  }
 ],
 "metadata": {
  "kernelspec": {
   "display_name": "Python 3",
   "language": "python",
   "name": "python3"
  },
  "language_info": {
   "codemirror_mode": {
    "name": "ipython",
    "version": 3
   },
   "file_extension": ".py",
   "mimetype": "text/x-python",
   "name": "python",
   "nbconvert_exporter": "python",
   "pygments_lexer": "ipython3",
   "version": "3.12.5"
  }
 },
 "nbformat": 4,
 "nbformat_minor": 2
}
