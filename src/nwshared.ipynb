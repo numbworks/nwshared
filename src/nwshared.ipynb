{
 "cells": [
  {
   "cell_type": "markdown",
   "metadata": {},
   "source": [
    "|||\n",
    "|---|---|\n",
    "|Title|nwshared|\n",
    "|Author|numbworks|\n",
    "|Version|1.8.0|\n",
    "||Please check [docs/docs-nwshared.md](../docs/docs-nwshared.md) before proceeding.|"
   ]
  },
  {
   "cell_type": "markdown",
   "metadata": {},
   "source": [
    "#### Demo"
   ]
  },
  {
   "cell_type": "code",
   "execution_count": 5,
   "metadata": {},
   "outputs": [
    {
     "data": {
      "text/html": [
       "<style type=\"text/css\">\n",
       "</style>\n",
       "<table id=\"T_b75dd\">\n",
       "  <thead>\n",
       "    <tr>\n",
       "      <th id=\"T_b75dd_level0_col0\" class=\"col_heading level0 col0\" >Category</th>\n",
       "      <th id=\"T_b75dd_level0_col1\" class=\"col_heading level0 col1\" >Price</th>\n",
       "    </tr>\n",
       "  </thead>\n",
       "  <tbody>\n",
       "    <tr>\n",
       "      <td id=\"T_b75dd_row0_col0\" class=\"data row0 col0\" >Food</td>\n",
       "      <td id=\"T_b75dd_row0_col1\" class=\"data row0 col1\" >250.50</td>\n",
       "    </tr>\n",
       "    <tr>\n",
       "      <td id=\"T_b75dd_row1_col0\" class=\"data row1 col0\" >Bills</td>\n",
       "      <td id=\"T_b75dd_row1_col1\" class=\"data row1 col1\" >432.78</td>\n",
       "    </tr>\n",
       "  </tbody>\n",
       "</table>\n"
      ],
      "text/plain": [
       "<pandas.io.formats.style.Styler at 0x7f5c71765c10>"
      ]
     },
     "metadata": {},
     "output_type": "display_data"
    }
   ],
   "source": [
    "import pandas as pd\n",
    "from pandas import DataFrame\n",
    "from nwshared import Displayer\n",
    "\n",
    "data : dict = { 'Category': [\"Food\", \"Bills\"], 'Price': [250.50, 432.78] }\n",
    "df : DataFrame = pd.DataFrame(data)\n",
    "\n",
    "Displayer().display(df = df, hide_index = True, formatters = { \"Price\" : \"{:.2f}\" })\n"
   ]
  },
  {
   "cell_type": "code",
   "execution_count": 6,
   "metadata": {},
   "outputs": [
    {
     "data": {
      "text/html": [
       "<style type=\"text/css\">\n",
       "</style>\n",
       "<table id=\"T_c57f7\">\n",
       "  <thead>\n",
       "    <tr>\n",
       "      <th class=\"blank level0\" >&nbsp;</th>\n",
       "      <th id=\"T_c57f7_level0_col0\" class=\"col_heading level0 col0\" >Category</th>\n",
       "      <th id=\"T_c57f7_level0_col1\" class=\"col_heading level0 col1\" >Price</th>\n",
       "    </tr>\n",
       "  </thead>\n",
       "  <tbody>\n",
       "    <tr>\n",
       "      <th id=\"T_c57f7_level0_row0\" class=\"row_heading level0 row0\" >0</th>\n",
       "      <td id=\"T_c57f7_row0_col0\" class=\"data row0 col0\" >Food</td>\n",
       "      <td id=\"T_c57f7_row0_col1\" class=\"data row0 col1\" >250.50</td>\n",
       "    </tr>\n",
       "    <tr>\n",
       "      <th id=\"T_c57f7_level0_row1\" class=\"row_heading level0 row1\" >1</th>\n",
       "      <td id=\"T_c57f7_row1_col0\" class=\"data row1 col0\" >Bills</td>\n",
       "      <td id=\"T_c57f7_row1_col1\" class=\"data row1 col1\" >432.78</td>\n",
       "    </tr>\n",
       "  </tbody>\n",
       "</table>\n"
      ],
      "text/plain": [
       "<pandas.io.formats.style.Styler at 0x7f5c38234170>"
      ]
     },
     "metadata": {},
     "output_type": "display_data"
    }
   ],
   "source": [
    "Displayer().display(df = df, hide_index = False, formatters = { \"Price\" : \"{:.2f}\" })"
   ]
  },
  {
   "cell_type": "code",
   "execution_count": 7,
   "metadata": {},
   "outputs": [
    {
     "data": {
      "text/html": [
       "<style type=\"text/css\">\n",
       "</style>\n",
       "<table id=\"T_57a0c\">\n",
       "  <thead>\n",
       "    <tr>\n",
       "      <th class=\"blank level0\" >&nbsp;</th>\n",
       "      <th id=\"T_57a0c_level0_col0\" class=\"col_heading level0 col0\" >Category</th>\n",
       "      <th id=\"T_57a0c_level0_col1\" class=\"col_heading level0 col1\" >Price</th>\n",
       "    </tr>\n",
       "  </thead>\n",
       "  <tbody>\n",
       "    <tr>\n",
       "      <th id=\"T_57a0c_level0_row0\" class=\"row_heading level0 row0\" >0</th>\n",
       "      <td id=\"T_57a0c_row0_col0\" class=\"data row0 col0\" >Food</td>\n",
       "      <td id=\"T_57a0c_row0_col1\" class=\"data row0 col1\" >250.500000</td>\n",
       "    </tr>\n",
       "    <tr>\n",
       "      <th id=\"T_57a0c_level0_row1\" class=\"row_heading level0 row1\" >1</th>\n",
       "      <td id=\"T_57a0c_row1_col0\" class=\"data row1 col0\" >Bills</td>\n",
       "      <td id=\"T_57a0c_row1_col1\" class=\"data row1 col1\" >432.780000</td>\n",
       "    </tr>\n",
       "  </tbody>\n",
       "</table>\n"
      ],
      "text/plain": [
       "<pandas.io.formats.style.Styler at 0x7f5c71764230>"
      ]
     },
     "metadata": {},
     "output_type": "display_data"
    }
   ],
   "source": [
    "Displayer().display(df = df, hide_index = False)"
   ]
  }
 ],
 "metadata": {
  "kernelspec": {
   "display_name": "Python 3",
   "language": "python",
   "name": "python3"
  },
  "language_info": {
   "codemirror_mode": {
    "name": "ipython",
    "version": 3
   },
   "file_extension": ".py",
   "mimetype": "text/x-python",
   "name": "python",
   "nbconvert_exporter": "python",
   "pygments_lexer": "ipython3",
   "version": "3.12.5"
  }
 },
 "nbformat": 4,
 "nbformat_minor": 2
}
