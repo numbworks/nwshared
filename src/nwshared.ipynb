{
 "cells": [
  {
   "cell_type": "markdown",
   "metadata": {},
   "source": [
    "|||\n",
    "|---|---|\n",
    "|Title|nwshared|\n",
    "|Author|numbworks|\n",
    "|Version|1.8.0|\n",
    "||Please check [docs/docs-nwshared.md](../docs/docs-nwshared.md) before proceeding.|"
   ]
  },
  {
   "cell_type": "markdown",
   "metadata": {},
   "source": [
    "#### Demo"
   ]
  },
  {
   "cell_type": "code",
   "execution_count": 4,
   "metadata": {},
   "outputs": [
    {
     "data": {
      "text/html": [
       "<style type=\"text/css\">\n",
       "</style>\n",
       "<table id=\"T_41ac3\">\n",
       "  <thead>\n",
       "    <tr>\n",
       "      <th id=\"T_41ac3_level0_col0\" class=\"col_heading level0 col0\" >Column1</th>\n",
       "      <th id=\"T_41ac3_level0_col1\" class=\"col_heading level0 col1\" >Column2</th>\n",
       "    </tr>\n",
       "  </thead>\n",
       "  <tbody>\n",
       "    <tr>\n",
       "      <td id=\"T_41ac3_row0_col0\" class=\"data row0 col0\" >1</td>\n",
       "      <td id=\"T_41ac3_row0_col1\" class=\"data row0 col1\" >3</td>\n",
       "    </tr>\n",
       "    <tr>\n",
       "      <td id=\"T_41ac3_row1_col0\" class=\"data row1 col0\" >2</td>\n",
       "      <td id=\"T_41ac3_row1_col1\" class=\"data row1 col1\" >4</td>\n",
       "    </tr>\n",
       "  </tbody>\n",
       "</table>\n"
      ],
      "text/plain": [
       "<pandas.io.formats.style.Styler at 0x7f10d8c91640>"
      ]
     },
     "metadata": {},
     "output_type": "display_data"
    }
   ],
   "source": [
    "import pandas as pd\n",
    "from pandas import DataFrame\n",
    "from nwshared import Displayer\n",
    "\n",
    "data : dict = { 'Column1': [1, 2], 'Column2': [3, 4] }\n",
    "df : DataFrame = pd.DataFrame(data)\n",
    "\n",
    "Displayer().display(df)\n"
   ]
  }
 ],
 "metadata": {
  "kernelspec": {
   "display_name": "Python 3",
   "language": "python",
   "name": "python3"
  },
  "language_info": {
   "codemirror_mode": {
    "name": "ipython",
    "version": 3
   },
   "file_extension": ".py",
   "mimetype": "text/x-python",
   "name": "python",
   "nbconvert_exporter": "python",
   "pygments_lexer": "ipython3",
   "version": "3.12.5"
  }
 },
 "nbformat": 4,
 "nbformat_minor": 2
}
